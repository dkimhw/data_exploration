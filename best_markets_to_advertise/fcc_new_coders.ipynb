{
 "cells": [
  {
   "cell_type": "markdown",
   "metadata": {},
   "source": [
    "## Project\n",
    "\n",
    "### Main Goal\n",
    "* Doing market analysis for an e-learning company focused on web and mobile development\n",
    "* Find the two best markets to advertise our product in using data from a survey"
   ]
  },
  {
   "cell_type": "code",
   "execution_count": 7,
   "metadata": {
    "collapsed": true
   },
   "outputs": [],
   "source": [
    "import pandas as pd\n",
    "import seaborn as sns"
   ]
  },
  {
   "cell_type": "markdown",
   "metadata": {},
   "source": [
    "## Explore Data"
   ]
  },
  {
   "cell_type": "code",
   "execution_count": 2,
   "metadata": {
    "collapsed": false
   },
   "outputs": [
    {
     "name": "stderr",
     "output_type": "stream",
     "text": [
      "/dataquest/system/env/python3/lib/python3.4/site-packages/IPython/core/interactiveshell.py:2723: DtypeWarning: Columns (17,62) have mixed types. Specify dtype option on import or set low_memory=False.\n",
      "  interactivity=interactivity, compiler=compiler, result=result)\n"
     ]
    }
   ],
   "source": [
    "df = pd.read_csv('2017-fCC-New-Coders-Survey-Data.csv')"
   ]
  },
  {
   "cell_type": "code",
   "execution_count": 3,
   "metadata": {
    "collapsed": false
   },
   "outputs": [
    {
     "name": "stdout",
     "output_type": "stream",
     "text": [
      "    Age  AttendedBootcamp  BootcampFinish  BootcampLoanYesNo BootcampName  \\\n",
      "0  27.0               0.0             NaN                NaN          NaN   \n",
      "1  34.0               0.0             NaN                NaN          NaN   \n",
      "2  21.0               0.0             NaN                NaN          NaN   \n",
      "3  26.0               0.0             NaN                NaN          NaN   \n",
      "4  20.0               0.0             NaN                NaN          NaN   \n",
      "\n",
      "   BootcampRecommend  ChildrenNumber                 CityPopulation  \\\n",
      "0                NaN             NaN            more than 1 million   \n",
      "1                NaN             NaN              less than 100,000   \n",
      "2                NaN             NaN            more than 1 million   \n",
      "3                NaN             NaN  between 100,000 and 1 million   \n",
      "4                NaN             NaN  between 100,000 and 1 million   \n",
      "\n",
      "   CodeEventConferences  CodeEventDjangoGirls         ...           \\\n",
      "0                   NaN                   NaN         ...            \n",
      "1                   NaN                   NaN         ...            \n",
      "2                   NaN                   NaN         ...            \n",
      "3                   NaN                   NaN         ...            \n",
      "4                   NaN                   NaN         ...            \n",
      "\n",
      "   YouTubeFCC  YouTubeFunFunFunction  YouTubeGoogleDev  YouTubeLearnCode  \\\n",
      "0         NaN                    NaN               NaN               NaN   \n",
      "1         1.0                    NaN               NaN               NaN   \n",
      "2         NaN                    NaN               NaN               1.0   \n",
      "3         1.0                    1.0               NaN               NaN   \n",
      "4         NaN                    NaN               NaN               NaN   \n",
      "\n",
      "   YouTubeLevelUpTuts  YouTubeMIT  YouTubeMozillaHacks YouTubeOther  \\\n",
      "0                 NaN         NaN                  NaN          NaN   \n",
      "1                 NaN         NaN                  NaN          NaN   \n",
      "2                 1.0         NaN                  NaN          NaN   \n",
      "3                 1.0         NaN                  NaN          NaN   \n",
      "4                 NaN         NaN                  NaN          NaN   \n",
      "\n",
      "   YouTubeSimplilearn  YouTubeTheNewBoston  \n",
      "0                 NaN                  NaN  \n",
      "1                 NaN                  NaN  \n",
      "2                 NaN                  NaN  \n",
      "3                 NaN                  NaN  \n",
      "4                 NaN                  NaN  \n",
      "\n",
      "[5 rows x 136 columns]\n"
     ]
    }
   ],
   "source": [
    "print(df.head())"
   ]
  },
  {
   "cell_type": "code",
   "execution_count": 5,
   "metadata": {
    "collapsed": false
   },
   "outputs": [
    {
     "name": "stdout",
     "output_type": "stream",
     "text": [
      "(18175, 136)\n"
     ]
    }
   ],
   "source": [
    "print(df.shape)"
   ]
  },
  {
   "cell_type": "code",
   "execution_count": 6,
   "metadata": {
    "collapsed": false,
    "scrolled": false
   },
   "outputs": [
    {
     "name": "stdout",
     "output_type": "stream",
     "text": [
      "Age                        2808\n",
      "AttendedBootcamp            466\n",
      "BootcampFinish            17106\n",
      "BootcampLoanYesNo         17096\n",
      "BootcampName              17226\n",
      "BootcampRecommend         17102\n",
      "ChildrenNumber            15861\n",
      "CityPopulation             2821\n",
      "CodeEventConferences      16566\n",
      "CodeEventDjangoGirls      18010\n",
      "CodeEventFCC              16467\n",
      "CodeEventGameJam          17885\n",
      "CodeEventGirlDev          17878\n",
      "CodeEventHackathons       16198\n",
      "CodeEventMeetup           15703\n",
      "CodeEventNodeSchool       17729\n",
      "CodeEventNone             17099\n",
      "CodeEventOther            17605\n",
      "CodeEventRailsBridge      18042\n",
      "CodeEventRailsGirls       18043\n",
      "CodeEventStartUpWknd      17631\n",
      "CodeEventWkdBootcamps     17628\n",
      "CodeEventWomenCode        17694\n",
      "CodeEventWorkshops        16422\n",
      "CommuteTime                8929\n",
      "CountryCitizen             2793\n",
      "CountryLive                2839\n",
      "EmploymentField           10059\n",
      "EmploymentFieldOther      17097\n",
      "EmploymentStatus           3830\n",
      "                          ...  \n",
      "ResourceMDN               11758\n",
      "ResourceOdinProj          17199\n",
      "ResourceOther             17151\n",
      "ResourcePluralSight       15783\n",
      "ResourceSkillcrush        17723\n",
      "ResourceSO                 6968\n",
      "ResourceTreehouse         15915\n",
      "ResourceUdacity           14338\n",
      "ResourceUdemy             13055\n",
      "ResourceW3S                8410\n",
      "SchoolDegree               2807\n",
      "SchoolMajor                9448\n",
      "StudentDebtOwe            14813\n",
      "YouTubeCodeCourse         17219\n",
      "YouTubeCodingTrain        17199\n",
      "YouTubeCodingTut360       16778\n",
      "YouTubeComputerphile      16722\n",
      "YouTubeDerekBanas         16328\n",
      "YouTubeDevTips            15556\n",
      "YouTubeEngineeredTruth    17182\n",
      "YouTubeFCC                12139\n",
      "YouTubeFunFunFunction     16914\n",
      "YouTubeGoogleDev          14636\n",
      "YouTubeLearnCode          15513\n",
      "YouTubeLevelUpTuts        16779\n",
      "YouTubeMIT                14848\n",
      "YouTubeMozillaHacks       17553\n",
      "YouTubeOther              16961\n",
      "YouTubeSimplilearn        17974\n",
      "YouTubeTheNewBoston       15215\n",
      "Length: 136, dtype: int64\n"
     ]
    }
   ],
   "source": [
    "print(df.isnull().sum())"
   ]
  },
  {
   "cell_type": "markdown",
   "metadata": {},
   "source": [
    "There 136 columns of data and a lot of these columns are missing values - it seems like if no response was given, no value was written to that row. Given the number of columns - the best way to approach this would be reduce the dataframe to answer the most pertinent questions:\n",
    "\n",
    "1. Where are new coders located?\n",
    "2. What are the locations with the greatest number of new coders?\n",
    "3. How much money new coders are willing to spend on learning?\n",
    "4. How many people are interested in learning about mobile & web dev?\n",
    "\n"
   ]
  },
  {
   "cell_type": "markdown",
   "metadata": {},
   "source": [
    "## Analyzing Job Role Interest\n",
    "\n",
    "1. Are people interested in only one subject or multiple?\n",
    "2. If most people are interested in more than one subject - is the sample still representative?\n",
    "3. How many people are interested in at least one of those two subjects?"
   ]
  },
  {
   "cell_type": "code",
   "execution_count": 10,
   "metadata": {
    "collapsed": false
   },
   "outputs": [
    {
     "data": {
      "text/plain": [
       "Full-Stack Web Developer                                                                                                                                                                                         823\n",
       "  Front-End Web Developer                                                                                                                                                                                        450\n",
       "  Data Scientist                                                                                                                                                                                                 152\n",
       "Back-End Web Developer                                                                                                                                                                                           142\n",
       "  Mobile Developer                                                                                                                                                                                               117\n",
       "Game Developer                                                                                                                                                                                                   114\n",
       "Information Security                                                                                                                                                                                              92\n",
       "Full-Stack Web Developer,   Front-End Web Developer                                                                                                                                                               64\n",
       "  Front-End Web Developer, Full-Stack Web Developer                                                                                                                                                               56\n",
       "  Product Manager                                                                                                                                                                                                 55\n",
       "Data Engineer                                                                                                                                                                                                     53\n",
       "  User Experience Designer                                                                                                                                                                                        52\n",
       "  User Experience Designer,   Front-End Web Developer                                                                                                                                                             43\n",
       "  Front-End Web Developer, Back-End Web Developer, Full-Stack Web Developer                                                                                                                                       39\n",
       "Back-End Web Developer, Full-Stack Web Developer,   Front-End Web Developer                                                                                                                                       36\n",
       "Back-End Web Developer,   Front-End Web Developer, Full-Stack Web Developer                                                                                                                                       36\n",
       "  DevOps / SysAdmin                                                                                                                                                                                               36\n",
       "Full-Stack Web Developer,   Front-End Web Developer, Back-End Web Developer                                                                                                                                       31\n",
       "  Front-End Web Developer, Full-Stack Web Developer, Back-End Web Developer                                                                                                                                       30\n",
       "Full-Stack Web Developer,   Mobile Developer                                                                                                                                                                      29\n",
       "  Front-End Web Developer,   User Experience Designer                                                                                                                                                             29\n",
       "Back-End Web Developer, Full-Stack Web Developer                                                                                                                                                                  27\n",
       "Full-Stack Web Developer, Back-End Web Developer                                                                                                                                                                  26\n",
       "Back-End Web Developer,   Front-End Web Developer                                                                                                                                                                 20\n",
       "Data Engineer,   Data Scientist                                                                                                                                                                                   19\n",
       "Full-Stack Web Developer, Back-End Web Developer,   Front-End Web Developer                                                                                                                                       19\n",
       "  Front-End Web Developer,   Mobile Developer                                                                                                                                                                     18\n",
       "Full-Stack Web Developer,   Data Scientist                                                                                                                                                                        17\n",
       "  Mobile Developer, Game Developer                                                                                                                                                                                16\n",
       "  Data Scientist, Data Engineer                                                                                                                                                                                   16\n",
       "                                                                                                                                                                                                                ... \n",
       "Back-End Web Developer,   User Experience Designer,   Front-End Web Developer, Full-Stack Web Developer,   Mobile Developer                                                                                        1\n",
       "  Data Scientist,   Mobile Developer                                                                                                                                                                               1\n",
       "Full-Stack Web Developer, Game Developer,   Front-End Web Developer,   Mobile Developer, Back-End Web Developer                                                                                                    1\n",
       "Full-Stack Web Developer, Information Security,   Mobile Developer,   Data Scientist, Game Developer,   Front-End Web Developer                                                                                    1\n",
       "  User Experience Designer,   Mobile Developer, Back-End Web Developer,   Front-End Web Developer, Full-Stack Web Developer,   Product Manager, Information Security                                               1\n",
       "  Data Scientist, Information Security, Data Engineer,  Bioinformatics                                                                                                                                             1\n",
       "Back-End Web Developer,   User Experience Designer,   Front-End Web Developer, Full-Stack Web Developer, Game Developer,   Quality Assurance Engineer,   Mobile Developer,   DevOps / SysAdmin                     1\n",
       "  User Experience Designer, Data Engineer,   Front-End Web Developer, Back-End Web Developer,   Data Scientist,   Mobile Developer, Information Security, Full-Stack Web Developer,   DevOps / SysAdmin            1\n",
       "Information Security,   Mobile Developer,   DevOps / SysAdmin, Data Engineer, Game Developer,   Data Scientist,   Front-End Web Developer,   User Experience Designer, Back-End Web Developer                      1\n",
       "Embedded hardware                                                                                                                                                                                                  1\n",
       "Systems Programming                                                                                                                                                                                                1\n",
       "  Front-End Web Developer, Game Developer,   User Experience Designer, Full-Stack Web Developer,   Mobile Developer, Back-End Web Developer                                                                        1\n",
       "Data Engineer, Full-Stack Web Developer                                                                                                                                                                            1\n",
       "  Front-End Web Developer,   User Experience Designer, Information Security,   Mobile Developer                                                                                                                    1\n",
       "  Product Manager,   Quality Assurance Engineer, Data Engineer, Full-Stack Web Developer,   User Experience Designer,   Mobile Developer, Back-End Web Developer,   Data Scientist,   Front-End Web Developer      1\n",
       "Full-Stack Web Developer, Information Security,   Mobile Developer,   Front-End Web Developer, Back-End Web Developer                                                                                              1\n",
       "Back-End Web Developer,   Front-End Web Developer, Full-Stack Web Developer, Information Security                                                                                                                  1\n",
       "Machine learning engineer                                                                                                                                                                                          1\n",
       "Back-End Web Developer, Information Security,   DevOps / SysAdmin, Full-Stack Web Developer                                                                                                                        1\n",
       "  User Experience Designer,   Data Scientist,   Front-End Web Developer,   Mobile Developer, Back-End Web Developer, Full-Stack Web Developer                                                                      1\n",
       "Education                                                                                                                                                                                                          1\n",
       "Back-End Web Developer,   DevOps / SysAdmin, Full-Stack Web Developer,   Data Scientist                                                                                                                            1\n",
       "  Data Scientist,   Mobile Developer, Full-Stack Web Developer, Data Engineer                                                                                                                                      1\n",
       "Information Security, Full-Stack Web Developer,   User Experience Designer,   Product Manager, Game Developer,   DevOps / SysAdmin,   Mobile Developer, Back-End Web Developer                                     1\n",
       "Back-End Web Developer, Data Engineer, Full-Stack Web Developer,   Product Manager                                                                                                                                 1\n",
       "  Mobile Developer,   User Experience Designer, Back-End Web Developer,   Front-End Web Developer, Game Developer                                                                                                  1\n",
       "IoT Developer                                                                                                                                                                                                      1\n",
       "Back-End Web Developer,   Front-End Web Developer,   DevOps / SysAdmin                                                                                                                                             1\n",
       "Back-End Web Developer, Data Engineer,   Mobile Developer, Information Security,   Front-End Web Developer, Full-Stack Web Developer                                                                               1\n",
       "  DevOps / SysAdmin,   User Experience Designer, Game Developer, Information Security, Information Technology                                                                                                      1\n",
       "Name: JobRoleInterest, Length: 3213, dtype: int64"
      ]
     },
     "execution_count": 10,
     "metadata": {},
     "output_type": "execute_result"
    }
   ],
   "source": [
    "df.JobRoleInterest.value_counts()"
   ]
  },
  {
   "cell_type": "code",
   "execution_count": null,
   "metadata": {
    "collapsed": true
   },
   "outputs": [],
   "source": []
  }
 ],
 "metadata": {
  "kernelspec": {
   "display_name": "Python 3",
   "language": "python",
   "name": "python3"
  },
  "language_info": {
   "codemirror_mode": {
    "name": "ipython",
    "version": 3
   },
   "file_extension": ".py",
   "mimetype": "text/x-python",
   "name": "python",
   "nbconvert_exporter": "python",
   "pygments_lexer": "ipython3",
   "version": "3.4.3"
  }
 },
 "nbformat": 4,
 "nbformat_minor": 2
}
